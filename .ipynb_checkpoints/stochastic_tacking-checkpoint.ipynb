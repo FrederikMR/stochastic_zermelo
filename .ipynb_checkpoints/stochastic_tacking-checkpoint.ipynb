{
 "cells": [
  {
   "cell_type": "markdown",
   "id": "a15d2860",
   "metadata": {},
   "source": [
    "# Stochastic Tacking Point Estimation"
   ]
  },
  {
   "cell_type": "code",
   "execution_count": 2,
   "id": "595c513d",
   "metadata": {},
   "outputs": [],
   "source": [
    "import jax.numpy as jnp\n",
    "from jax import Array\n",
    "from jax import vmap, jit\n",
    "\n",
    "import matplotlib.pyplot as plt\n",
    "import matplotlib as mpl\n",
    "from mpl_toolkits.mplot3d import Axes3D\n",
    "from mpl_toolkits.axes_grid1 import make_axes_locatable\n",
    "import matplotlib.ticker as tkr\n",
    "import matplotlib.cm as cm\n",
    "\n",
    "import pickle\n",
    "\n",
    "import os\n",
    "\n",
    "from abc import ABC\n",
    "\n",
    "from load_manifold import load_stochastic_manifold\n",
    "\n",
    "from plotting import TackPlots\n",
    "from geometry.manifolds import LorentzFinslerManifold, nEllipsoid, nSphere, T2, RiemannianNavigation, nEuclidean\n",
    "from geometry.tacking import SequentialOptimizationBFGS, SequentialOptimizationADAM, GEORCE_HTacking\n",
    "from geometry.geodesic import GEORCE_H, GEORCE_HStep"
   ]
  },
  {
   "cell_type": "code",
   "execution_count": 3,
   "id": "01b10076",
   "metadata": {},
   "outputs": [],
   "source": [
    "figure_path = '../figures/stochastic_tacking_estimation/'"
   ]
  },
  {
   "cell_type": "code",
   "execution_count": 4,
   "id": "3ccb1525",
   "metadata": {},
   "outputs": [],
   "source": [
    "if not (os.path.exists(figure_path)):\n",
    "    os.makedirs(figure_path)"
   ]
  },
  {
   "cell_type": "code",
   "execution_count": 5,
   "id": "c02ac59b",
   "metadata": {},
   "outputs": [],
   "source": [
    "data_path = 'tacking_gpu/stochastic/'\n",
    "T = 1_000\n",
    "N_sim = 10"
   ]
  },
  {
   "cell_type": "code",
   "execution_count": 6,
   "id": "4dd20356",
   "metadata": {},
   "outputs": [],
   "source": [
    "Plots = TackPlots(font_size=25,\n",
    "                  power_lim=-2.,\n",
    "                  colors=['red', 'blue'],\n",
    "                  linewidth = 2.5,\n",
    "                  s = 500,\n",
    "                  alpha = 1.0,\n",
    "                 )"
   ]
  },
  {
   "cell_type": "markdown",
   "id": "87545b03",
   "metadata": {},
   "source": [
    "## Direction-Only Dependent Finsler Metrics"
   ]
  },
  {
   "cell_type": "code",
   "execution_count": 7,
   "id": "16ddd2a2",
   "metadata": {},
   "outputs": [],
   "source": [
    "curve_name = 'direction_only' #'direction_only/' #'time_only/' #'poincarre/'\n",
    "save_path = ''.join((data_path, curve_name, '/'))\n",
    "    \n",
    "onlyfiles = [f for f in os.listdir(save_path) if os.path.isfile(os.path.join(save_path, f))]"
   ]
  },
  {
   "cell_type": "code",
   "execution_count": 8,
   "id": "0dde99d2",
   "metadata": {},
   "outputs": [
    {
     "name": "stderr",
     "output_type": "stream",
     "text": [
      "An NVIDIA GPU may be present on this machine, but a CUDA-enabled jaxlib is not installed. Falling back to cpu.\n"
     ]
    }
   ],
   "source": [
    "file_path = ''.join((save_path, onlyfiles[0]))\n",
    "with open(file_path, 'rb') as f:\n",
    "    curves = pickle.load(f)"
   ]
  },
  {
   "cell_type": "code",
   "execution_count": 9,
   "id": "7a19f3a5",
   "metadata": {
    "scrolled": true
   },
   "outputs": [],
   "source": [
    "t0, z0, zT, Malpha_expected, Mbeta_expected, tack_metrics, reverse_tack_metrics = load_stochastic_manifold(curve_name)"
   ]
  },
  {
   "cell_type": "code",
   "execution_count": 10,
   "id": "483c9442",
   "metadata": {},
   "outputs": [],
   "source": [
    "indicatrix_alpha = Malpha_expected.indicatrix(0.0, z0, N_points=100)#, grid=jnp.linspace(-5,5,1000), eps=1e-6)\n",
    "indicatrix_beta = Mbeta_expected.indicatrix(0.0, z0, N_points=100)#, grid=jnp.linspace(-5,5,1000), eps=1e-6)"
   ]
  },
  {
   "cell_type": "code",
   "execution_count": 11,
   "id": "419c903f",
   "metadata": {},
   "outputs": [],
   "source": [
    "xscales = [-5.0, 5.0]\n",
    "yscales = [-3.0, 9.0]"
   ]
  },
  {
   "cell_type": "code",
   "execution_count": 14,
   "id": "11e6b430",
   "metadata": {},
   "outputs": [
    {
     "data": {
      "text/plain": [
       "dict_keys(['Geodesic', 'ReverseGeodesic', 'ExpectedTacking', 'ExpectedReverseTacking', 'Geodesic0', 'ReverseGeodesic0', 'Tacking0_1', 'ReverseTacking0_1', 'Geodesic1', 'ReverseGeodesic1', 'Tacking1_1', 'ReverseTacking1_1', 'Geodesic2', 'ReverseGeodesic2', 'Tacking2_1', 'ReverseTacking2_1', 'Geodesic3', 'ReverseGeodesic3', 'Tacking3_1', 'ReverseTacking3_1', 'Geodesic4', 'ReverseGeodesic4', 'Tacking4_1', 'ReverseTacking4_1'])"
      ]
     },
     "execution_count": 14,
     "metadata": {},
     "output_type": "execute_result"
    }
   ],
   "source": [
    "curves.keys()"
   ]
  },
  {
   "cell_type": "code",
   "execution_count": 12,
   "id": "2052c1a1",
   "metadata": {},
   "outputs": [
    {
     "ename": "KeyError",
     "evalue": "'ExpectedGeodesic'",
     "output_type": "error",
     "traceback": [
      "\u001b[0;31m---------------------------------------------------------------------------\u001b[0m",
      "\u001b[0;31mKeyError\u001b[0m                                  Traceback (most recent call last)",
      "\u001b[0;32m/tmp/ipykernel_50524/522866953.py\u001b[0m in \u001b[0;36m<module>\u001b[0;34m\u001b[0m\n\u001b[0;32m----> 1\u001b[0;31m \u001b[0mexpected_zs\u001b[0m \u001b[0;34m=\u001b[0m \u001b[0mcurves\u001b[0m\u001b[0;34m[\u001b[0m\u001b[0;34m'ExpectedGeodesic'\u001b[0m\u001b[0;34m]\u001b[0m\u001b[0;34m[\u001b[0m\u001b[0;34m'zs'\u001b[0m\u001b[0;34m]\u001b[0m\u001b[0;34m\u001b[0m\u001b[0;34m\u001b[0m\u001b[0m\n\u001b[0m\u001b[1;32m      2\u001b[0m \u001b[0mexpected_zs_reverse\u001b[0m \u001b[0;34m=\u001b[0m \u001b[0mcurves\u001b[0m\u001b[0;34m[\u001b[0m\u001b[0;34m'ExpectedReverseGeodesic'\u001b[0m\u001b[0;34m]\u001b[0m\u001b[0;34m[\u001b[0m\u001b[0;34m'zs'\u001b[0m\u001b[0;34m]\u001b[0m\u001b[0;34m\u001b[0m\u001b[0;34m\u001b[0m\u001b[0m\n\u001b[1;32m      3\u001b[0m \u001b[0mexpected_tack_curve\u001b[0m \u001b[0;34m=\u001b[0m \u001b[0mcurves\u001b[0m\u001b[0;34m[\u001b[0m\u001b[0;34m'ExpectedTacking'\u001b[0m\u001b[0;34m]\u001b[0m\u001b[0;34m[\u001b[0m\u001b[0;34m'zs'\u001b[0m\u001b[0;34m]\u001b[0m\u001b[0;34m\u001b[0m\u001b[0;34m\u001b[0m\u001b[0m\n\u001b[1;32m      4\u001b[0m \u001b[0mexpected_reverse_tack_curve\u001b[0m \u001b[0;34m=\u001b[0m \u001b[0mcurves\u001b[0m\u001b[0;34m[\u001b[0m\u001b[0;34m'ExpectedReverseTacking'\u001b[0m\u001b[0;34m]\u001b[0m\u001b[0;34m[\u001b[0m\u001b[0;34m'zs'\u001b[0m\u001b[0;34m]\u001b[0m\u001b[0;34m\u001b[0m\u001b[0;34m\u001b[0m\u001b[0m\n\u001b[1;32m      5\u001b[0m \u001b[0;34m\u001b[0m\u001b[0m\n",
      "\u001b[0;31mKeyError\u001b[0m: 'ExpectedGeodesic'"
     ]
    }
   ],
   "source": [
    "expected_zs = curves['ExpectedGeodesic']['zs']\n",
    "expected_zs_reverse = curves['ExpectedReverseGeodesic']['zs']\n",
    "expected_tack_curve = curves['ExpectedTacking']['zs']\n",
    "expected_reverse_tack_curve = curves['ExpectedReverseTacking']['zs']\n",
    "\n",
    "stochastic_zs = jnp.stack([curves[f'Geodesic{i}']['zs'] for i in range(N_sim)])\n",
    "stochastic_zs_reverse = jnp.stack([curves[f'ReverseGeodesic{i}']['zs'] for i in range(N_sim)])\n",
    "stochastic_tack_curve = jnp.stack([curves[f'Tacking{i}_1']['zs'] for i in range(N_sim)])\n",
    "stochastic_reverse_tack_curve = jnp.stack([curves[f'ReverseTacking{i}_1']['zs'] for i in range(N_sim)])"
   ]
  },
  {
   "cell_type": "code",
   "execution_count": null,
   "id": "ee819280",
   "metadata": {},
   "outputs": [],
   "source": [
    "fig = Plots.plot_stochastic_tacking(z0,\n",
    "                             zT,\n",
    "                             T,\n",
    "                              expected_zs,\n",
    "                                expected_zs_reverse,\n",
    "                                expected_tack_curve,\n",
    "                                expected_reverse_tack_curve,\n",
    "                                stochastic_zs,\n",
    "                                stochastic_zs_reverse,\n",
    "                                stochastic_tack_curve,\n",
    "                                stochastic_reverse_tack_curve,\n",
    "                                indicatrix_alpha=None,\n",
    "                                indicatrix_beta=None,\n",
    "                                xscales=None,\n",
    "                                yscales=None,\n",
    "                                equal_frame=False,\n",
    "                                save_path=f'{figure_path}stochastic_{curve_name}.pdf',\n",
    "                             )"
   ]
  },
  {
   "cell_type": "code",
   "execution_count": null,
   "id": "05acab36",
   "metadata": {},
   "outputs": [],
   "source": []
  }
 ],
 "metadata": {
  "kernelspec": {
   "display_name": "Python 3 (ipykernel)",
   "language": "python",
   "name": "python3"
  },
  "language_info": {
   "codemirror_mode": {
    "name": "ipython",
    "version": 3
   },
   "file_extension": ".py",
   "mimetype": "text/x-python",
   "name": "python",
   "nbconvert_exporter": "python",
   "pygments_lexer": "ipython3",
   "version": "3.9.13"
  }
 },
 "nbformat": 4,
 "nbformat_minor": 5
}
