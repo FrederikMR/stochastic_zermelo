{
 "cells": [
  {
   "cell_type": "markdown",
   "id": "0b955105",
   "metadata": {},
   "source": [
    "# Testing"
   ]
  },
  {
   "cell_type": "code",
   "execution_count": 1,
   "id": "2498bae6",
   "metadata": {},
   "outputs": [],
   "source": [
    "import jax.numpy as jnp\n",
    "from jax import jacfwd\n",
    "\n",
    "from geometry.manifolds import LorentzFinslerManifold, nEllipsoid, nSphere, RiemannianNavigation\n",
    "\n",
    "from geometry.geodesic import GEORCE\n",
    "from geometry.tacking import SequentialOptimizationBFGS, SequentialOptimizationADAM"
   ]
  },
  {
   "cell_type": "code",
   "execution_count": 2,
   "id": "711c0ed4",
   "metadata": {},
   "outputs": [],
   "source": [
    "def Falpha(t,x1,v):\n",
    "    \n",
    "    x,y = v[0], v[1]\n",
    "    \n",
    "    return (1.0*(2+1/2*jnp.sin(t))**2*jnp.sin(1/4*t*jnp.pi)*y \\\n",
    "            +1.0*(3/2+3/8*jnp.sin(t))**2*jnp.cos(1/4*t*jnp.pi)*x \\\n",
    "                +((2+1/2*jnp.sin(t))**4*(3/2+3/8*jnp.sin(t))**2*y**2 \\\n",
    "                  +(2+1/2*jnp.sin(t))**2*(3/2+3/8*jnp.sin(t))**4*x**2-\\\n",
    "                      1.00*(2+1/2*jnp.sin(t))**2*(3/2+3/8*jnp.sin(t))**2*jnp.cos(1/4*t*jnp.pi)**2*y**2 \\\n",
    "                          +2.00*(2+1/2*jnp.sin(t))**2*(3/2+3/8*jnp.sin(t))**2*jnp.cos(1/4*t*jnp.pi) \\\n",
    "                              *jnp.sin(1/4*t*jnp.pi)*x*y-1.00*(2+1/2*jnp.sin(t))**2*\\\n",
    "                                  (3/2+3/8*jnp.sin(t))**2*jnp.sin(1/4*t*jnp.pi)**2*x**2)**(1/2)) \\\n",
    "        /((2+1/2*jnp.sin(t))**2*(3/2+3/8*jnp.sin(t))**2-1.00*(2+1/2*jnp.sin(t))**2\\\n",
    "          *jnp.sin(1/4*t*jnp.pi)**2-1.00*(3/2+3/8*jnp.sin(t))**2*jnp.cos(1/4*t*jnp.pi)**2)"
   ]
  },
  {
   "cell_type": "code",
   "execution_count": 3,
   "id": "acfd2537",
   "metadata": {},
   "outputs": [],
   "source": [
    "Malpha = LorentzFinslerManifold(F=Falpha)"
   ]
  },
  {
   "cell_type": "code",
   "execution_count": 4,
   "id": "e1a24fef",
   "metadata": {},
   "outputs": [
    {
     "name": "stderr",
     "output_type": "stream",
     "text": [
      "An NVIDIA GPU may be present on this machine, but a CUDA-enabled jaxlib is not installed. Falling back to cpu.\n"
     ]
    }
   ],
   "source": [
    "z0 = jnp.zeros(2)\n",
    "zT = jnp.array([5*jnp.pi, 0.0])"
   ]
  },
  {
   "cell_type": "code",
   "execution_count": 5,
   "id": "53428eff",
   "metadata": {},
   "outputs": [],
   "source": [
    "N = 200\n",
    "zt = jnp.linspace(0,1,N).reshape(-1,1)*(zT-z0)+z0"
   ]
  },
  {
   "cell_type": "code",
   "execution_count": 6,
   "id": "8799074e",
   "metadata": {},
   "outputs": [],
   "source": [
    "def z_cont(s):\n",
    "    \n",
    "    return (zT-z0)*s+z0\n",
    "\n",
    "def dz_cont(s):\n",
    "    \n",
    "    return jacfwd(z_cont)(s)"
   ]
  },
  {
   "cell_type": "code",
   "execution_count": 7,
   "id": "0279702d",
   "metadata": {},
   "outputs": [
    {
     "name": "stdout",
     "output_type": "stream",
     "text": [
      "8.730320325424202\n"
     ]
    }
   ],
   "source": [
    "def disc_integral(F, zt):\n",
    "    \n",
    "    t = 0.0\n",
    "    for i in range(len(zt)-1):\n",
    "        t += F(t,zt[i], zt[i+1]-zt[i]) \n",
    "    \n",
    "    return t\n",
    "\n",
    "print(disc_integral(Falpha, zt))"
   ]
  },
  {
   "cell_type": "code",
   "execution_count": 8,
   "id": "efb5afbc",
   "metadata": {},
   "outputs": [
    {
     "name": "stdout",
     "output_type": "stream",
     "text": [
      "8.730271630571146\n"
     ]
    }
   ],
   "source": [
    "def cont_integral(F, z_fun, dz_fun, T=1.0, N=100):\n",
    "    \n",
    "    h = T/N\n",
    "    t = 0.0\n",
    "    for i in range(N):\n",
    "        t += F(t,z_fun(t), dz_fun(t))*h\n",
    "    \n",
    "    return t\n",
    "\n",
    "print(cont_integral(Falpha, z_cont, dz_cont, T=1.0, N=N))"
   ]
  },
  {
   "cell_type": "code",
   "execution_count": 9,
   "id": "66722379",
   "metadata": {},
   "outputs": [],
   "source": [
    "tack_metrics = [Falpha]"
   ]
  },
  {
   "cell_type": "code",
   "execution_count": 10,
   "id": "17153e3c",
   "metadata": {},
   "outputs": [],
   "source": [
    "Geodesic = GEORCE(Malpha, init_fun=None, T=100, tol=1e-4, max_iter=1000, line_search_params={'rho': 0.5})"
   ]
  },
  {
   "cell_type": "code",
   "execution_count": 11,
   "id": "dac3711c",
   "metadata": {},
   "outputs": [],
   "source": [
    "Tacking = SequentialOptimizationBFGS(tack_metrics, init_fun=None, max_iter=1000, \n",
    "                                     tol=1e-4, T=100, sub_iter=1, line_search_params={'rho': 0.5})"
   ]
  },
  {
   "cell_type": "code",
   "execution_count": 12,
   "id": "8cf4c2ba",
   "metadata": {},
   "outputs": [],
   "source": [
    "Geodesic.dim = 2\n",
    "Geodesic.t0 = 0.0\n",
    "Geodesic.z0 = z0\n",
    "Geodesic.zT = zT"
   ]
  },
  {
   "cell_type": "code",
   "execution_count": 13,
   "id": "26d5d51c",
   "metadata": {},
   "outputs": [
    {
     "data": {
      "text/plain": [
       "Array([0.07893449, 0.15485686, 0.22806652, 0.29881847, 0.36733173,\n",
       "       0.43379591, 0.4983763 , 0.56121795, 0.62244888, 0.68218272,\n",
       "       0.74052078, 0.79755384, 0.85336357, 0.90802371, 0.96160111,\n",
       "       1.01415657, 1.06574551, 1.11641868, 1.16622259, 1.21520004,\n",
       "       1.26339048, 1.31083036, 1.35755345, 1.40359107, 1.44897236,\n",
       "       1.49372446, 1.53787272, 1.58144086, 1.62445108, 1.66692426,\n",
       "       1.70888   , 1.7503368 , 1.79131211, 1.83182244, 1.87188342,\n",
       "       1.9115099 , 1.950716  , 1.98951517, 2.02792024, 2.06594348,\n",
       "       2.10359666, 2.14089105, 2.17783753, 2.21444653, 2.25072814,\n",
       "       2.28669213, 2.32234793, 2.35770472, 2.3927714 , 2.42755664,\n",
       "       2.46206889, 2.49631641, 2.53030727, 2.56404938, 2.59755049,\n",
       "       2.63081822, 2.66386006, 2.69668338, 2.72929544, 2.76170342,\n",
       "       2.79391441, 2.8259354 , 2.85777334, 2.8894351 , 2.92092749,\n",
       "       2.95225729, 2.98343121, 3.01445594, 3.04533815, 3.07608445,\n",
       "       3.10670147, 3.1371958 , 3.16757403, 3.19784276, 3.22800857,\n",
       "       3.25807808, 3.28805789, 3.31795467, 3.34777507, 3.37752582,\n",
       "       3.40721365, 3.43684538, 3.46642786, 3.49596804, 3.5254729 ,\n",
       "       3.55494955, 3.58440517, 3.61384704, 3.64328257, 3.67271931,\n",
       "       3.70216492, 3.73162723, 3.76111423, 3.79063411, 3.82019525,\n",
       "       3.84980624, 3.8794759 , 3.90921334, 3.9390279 , 3.96892926,\n",
       "       3.99892741, 4.02903268, 4.05925581, 4.08960794, 4.12010065,\n",
       "       4.15074602, 4.18155665, 4.21254571, 4.24372699, 4.27511494,\n",
       "       4.30672475, 4.33857239, 4.37067467, 4.40304933, 4.43571512,\n",
       "       4.46869186, 4.50200056, 4.53566348, 4.56970426, 4.60414805,\n",
       "       4.63902158, 4.67435329, 4.71017349, 4.74651446, 4.78341058,\n",
       "       4.82089842, 4.85901689, 4.89780727, 4.93731325, 4.9775809 ,\n",
       "       5.01865857, 5.06059665, 5.10344717, 5.1472632 , 5.19209801,\n",
       "       5.23800386, 5.28503041, 5.33322274, 5.38261888, 5.43324687,\n",
       "       5.48512162, 5.53824157, 5.59258564, 5.64811071, 5.70475036,\n",
       "       5.76241493, 5.82099346, 5.88035725, 5.94036495, 6.00086844,\n",
       "       6.06171899, 6.12277294, 6.18389642, 6.24496886, 6.30588506,\n",
       "       6.36655623, 6.42690983, 6.48688885, 6.54645046, 6.60556452,\n",
       "       6.6642119 , 6.72238289, 6.78007568, 6.83729503, 6.89405103,\n",
       "       6.9503581 , 7.00623413, 7.06169971, 7.1167776 , 7.17149219,\n",
       "       7.22586913, 7.27993506, 7.33371731, 7.38724376, 7.44054271,\n",
       "       7.49364273, 7.54657267, 7.59936156, 7.65203865, 7.70463334,\n",
       "       7.75717527, 7.80969432, 7.86222063, 7.9147847 , 7.9674174 ,\n",
       "       8.02015004, 8.07301449, 8.12604319, 8.17926926, 8.2327266 ,\n",
       "       8.28644992, 8.34047488, 8.39483814, 8.44957747, 8.50473176,\n",
       "       8.56034116, 8.61644706, 8.67309214, 8.73032033], dtype=float64)"
      ]
     },
     "execution_count": 13,
     "metadata": {},
     "output_type": "execute_result"
    }
   ],
   "source": [
    "Geodesic.time_fun(zt)"
   ]
  },
  {
   "cell_type": "code",
   "execution_count": null,
   "id": "f3537dda",
   "metadata": {},
   "outputs": [],
   "source": []
  }
 ],
 "metadata": {
  "kernelspec": {
   "display_name": "Python 3 (ipykernel)",
   "language": "python",
   "name": "python3"
  },
  "language_info": {
   "codemirror_mode": {
    "name": "ipython",
    "version": 3
   },
   "file_extension": ".py",
   "mimetype": "text/x-python",
   "name": "python",
   "nbconvert_exporter": "python",
   "pygments_lexer": "ipython3",
   "version": "3.9.13"
  }
 },
 "nbformat": 4,
 "nbformat_minor": 5
}
